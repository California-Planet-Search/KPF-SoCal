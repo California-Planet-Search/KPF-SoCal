{
 "cells": [
  {
   "cell_type": "code",
   "execution_count": 1,
   "id": "8057449e",
   "metadata": {},
   "outputs": [],
   "source": [
    "import logging\n",
    "\n",
    "from SolarCalibrator import SoCal\n",
    "from Dispatcher import CreateDispatcher"
   ]
  },
  {
   "cell_type": "code",
   "execution_count": 2,
   "id": "631dd3b3",
   "metadata": {},
   "outputs": [],
   "source": [
    "logging.basicConfig(level=logging.DEBUG)"
   ]
  },
  {
   "cell_type": "markdown",
   "id": "354f7cef",
   "metadata": {},
   "source": [
    "# Start SoCal Dispatcher"
   ]
  },
  {
   "cell_type": "code",
   "execution_count": 3,
   "id": "6a3fc275",
   "metadata": {},
   "outputs": [
    {
     "name": "stdout",
     "output_type": "stream",
     "text": [
      "Opened WebSocket at ws://192.168.23.244:4030/ws\n",
      "Connected to 192.168.23.242 at Port 10001\n",
      "Connected to SoCalDispatcher.\n"
     ]
    }
   ],
   "source": [
    "CreateDispatcher()"
   ]
  },
  {
   "cell_type": "code",
   "execution_count": 5,
   "id": "8e73b2fd",
   "metadata": {},
   "outputs": [
    {
     "name": "stdout",
     "output_type": "stream",
     "text": [
      "Connected to SoCalDispatcher.\n"
     ]
    }
   ],
   "source": [
    "socal = SoCal()"
   ]
  },
  {
   "cell_type": "code",
   "execution_count": 6,
   "id": "322ba77b",
   "metadata": {},
   "outputs": [],
   "source": [
    "# socal.dispatcher.dome.ws.recv()"
   ]
  },
  {
   "cell_type": "markdown",
   "id": "ec020fb8",
   "metadata": {},
   "source": [
    "# Initialize SoCal state machine"
   ]
  },
  {
   "cell_type": "code",
   "execution_count": 7,
   "id": "bbf8bc1e",
   "metadata": {},
   "outputs": [
    {
     "data": {
      "text/plain": [
       "'PoweredOff'"
      ]
     },
     "execution_count": 7,
     "metadata": {},
     "output_type": "execute_result"
    }
   ],
   "source": [
    "socal.state"
   ]
  },
  {
   "cell_type": "markdown",
   "id": "00504eb4",
   "metadata": {},
   "source": [
    "## Power on (for now, manually turn power on)"
   ]
  },
  {
   "cell_type": "code",
   "execution_count": 8,
   "id": "77db3210",
   "metadata": {},
   "outputs": [
    {
     "name": "stderr",
     "output_type": "stream",
     "text": [
      "DEBUG:transitions.core:Executed machine preparation callbacks before conditions.\n",
      "DEBUG:transitions.core:Initiating transition from state PoweredOff to state Stowed...\n",
      "INFO:transitions.core:Executed callback 'can_power_on'\n",
      "DEBUG:transitions.core:Executed callbacks before conditions.\n",
      "INFO:transitions.core:Executed callback 'power_on_system'\n",
      "DEBUG:transitions.core:Executed callback before transition.\n",
      "DEBUG:transitions.core:Exiting state PoweredOff. Processing callbacks...\n",
      "INFO:transitions.core:Finished processing state PoweredOff exit callbacks.\n",
      "DEBUG:transitions.core:Entering state Stowed. Processing callbacks...\n",
      "INFO:transitions.core:Finished processing state Stowed enter callbacks.\n",
      "INFO:transitions.core:Executed callback 'did_power_on'\n",
      "DEBUG:transitions.core:Executed callback after transition.\n",
      "DEBUG:transitions.core:Executed machine finalize callbacks\n"
     ]
    },
    {
     "name": "stdout",
     "output_type": "stream",
     "text": [
      "Powering on SoCal\n"
     ]
    },
    {
     "data": {
      "text/plain": [
       "True"
      ]
     },
     "execution_count": 8,
     "metadata": {},
     "output_type": "execute_result"
    }
   ],
   "source": [
    "socal.power_on()"
   ]
  },
  {
   "cell_type": "code",
   "execution_count": 9,
   "id": "092adee6",
   "metadata": {},
   "outputs": [
    {
     "data": {
      "text/plain": [
       "'Stowed'"
      ]
     },
     "execution_count": 9,
     "metadata": {},
     "output_type": "execute_result"
    }
   ],
   "source": [
    "socal.state"
   ]
  },
  {
   "cell_type": "markdown",
   "id": "690fe9a9",
   "metadata": {},
   "source": [
    "## Check dome status"
   ]
  },
  {
   "cell_type": "code",
   "execution_count": 10,
   "id": "d4584d4f",
   "metadata": {},
   "outputs": [
    {
     "data": {
      "text/plain": [
       "{'Status': 'Closed',\n",
       " 'OP mode': 'Remote',\n",
       " 'Limits': {'open left': False,\n",
       "  'open right': False,\n",
       "  'close left': True,\n",
       "  'close right': True},\n",
       " 'Motor': {'status': 'Stopped',\n",
       "  'current': 0.0,\n",
       "  'measured max': 0.0,\n",
       "  'last overcurrent': nan},\n",
       " 'Temperatures': {'inside': 71.24000000000001, 'outside': 71.78, 'ebox': 77.0},\n",
       " 'Sensors': {'rain': 'off', 'light': 'off', 'power': 'on'},\n",
       " 'Watchdog': {'status': 'enabled', 'timeout': '5 sec'},\n",
       " 'Last command': 'status'}"
      ]
     },
     "execution_count": 10,
     "metadata": {},
     "output_type": "execute_result"
    }
   ],
   "source": [
    "dome_status = socal.dispatcher.get_dome_status()\n",
    "dome_status"
   ]
  },
  {
   "cell_type": "code",
   "execution_count": 11,
   "id": "77fdfe68",
   "metadata": {},
   "outputs": [
    {
     "data": {
      "text/plain": [
       "(False, True)"
      ]
     },
     "execution_count": 11,
     "metadata": {},
     "output_type": "execute_result"
    }
   ],
   "source": [
    "socal.dispatcher.is_domeopen, socal.dispatcher.is_domeclosed"
   ]
  },
  {
   "cell_type": "code",
   "execution_count": 12,
   "id": "a1297713",
   "metadata": {},
   "outputs": [],
   "source": [
    "# socal.dispatcher.dome.ws.recv()"
   ]
  },
  {
   "cell_type": "markdown",
   "id": "5a0015aa",
   "metadata": {},
   "source": [
    "# Open dome and start guiding"
   ]
  },
  {
   "cell_type": "code",
   "execution_count": 13,
   "id": "320621c6",
   "metadata": {
    "scrolled": true
   },
   "outputs": [],
   "source": [
    "# socal.may_open()"
   ]
  },
  {
   "cell_type": "code",
   "execution_count": 14,
   "id": "6924a4bc",
   "metadata": {
    "scrolled": true
   },
   "outputs": [
    {
     "name": "stderr",
     "output_type": "stream",
     "text": [
      "DEBUG:transitions.core:Executed machine preparation callbacks before conditions.\n",
      "DEBUG:transitions.core:Initiating transition from state Stowed to state Opening...\n",
      "DEBUG:transitions.core:Executed callbacks before conditions.\n",
      "INFO:transitions.core:Executed callback 'can_open'\n",
      "DEBUG:transitions.core:Executed callback before transition.\n",
      "DEBUG:transitions.core:Exiting state Stowed. Processing callbacks...\n",
      "INFO:transitions.core:Finished processing state Stowed exit callbacks.\n",
      "DEBUG:transitions.core:Entering state Opening. Processing callbacks...\n"
     ]
    },
    {
     "name": "stdout",
     "output_type": "stream",
     "text": [
      "Opening SoCal dome...\n",
      "Dome move in progress: Opening... motor current is 0.0 A\n",
      "Dome move in progress: Opening... motor current is 0.0 A\n",
      "Dome move in progress: Opening... motor current is 0.0 A\n",
      "Dome move in progress: Opening... motor current is 0.0 A\n",
      "Dome move in progress: Opening... motor current is 0.0 A\n"
     ]
    },
    {
     "name": "stderr",
     "output_type": "stream",
     "text": [
      "INFO:transitions.core:Executed callback 'open_dome'\n",
      "INFO:transitions.core:Finished processing state Opening enter callbacks.\n"
     ]
    },
    {
     "name": "stdout",
     "output_type": "stream",
     "text": [
      "Dome move in progress: Opening... motor current is 0.0 A\n",
      "Dome is not moving!\n",
      "Dome move complete.\n",
      "Error: booleans don't match desired dome position\n",
      "     Current state is Closed.\n",
      "     is_domeopen=False and is_domeclosed=True.\n",
      "     Likely did not wait long enough before checking if dome started moving.\n"
     ]
    },
    {
     "name": "stderr",
     "output_type": "stream",
     "text": [
      "DEBUG:transitions.core:Executed machine finalize callbacks\n"
     ]
    },
    {
     "ename": "KeyError",
     "evalue": "'Dome state'",
     "output_type": "error",
     "traceback": [
      "\u001b[0;31m---------------------------------------------------------------------------\u001b[0m",
      "\u001b[0;31mKeyError\u001b[0m                                  Traceback (most recent call last)",
      "\u001b[0;32m<ipython-input-14-625ee05f2d1c>\u001b[0m in \u001b[0;36m<module>\u001b[0;34m\u001b[0m\n\u001b[0;32m----> 1\u001b[0;31m \u001b[0msocal\u001b[0m\u001b[0;34m.\u001b[0m\u001b[0mopen\u001b[0m\u001b[0;34m(\u001b[0m\u001b[0;34m)\u001b[0m\u001b[0;34m\u001b[0m\u001b[0;34m\u001b[0m\u001b[0m\n\u001b[0m",
      "\u001b[0;32m~/miniconda3/envs/socal/lib/python3.9/site-packages/transitions/core.py\u001b[0m in \u001b[0;36mtrigger\u001b[0;34m(self, model, *args, **kwargs)\u001b[0m\n\u001b[1;32m    399\u001b[0m         \u001b[0;31m# Machine._process should not be called somewhere else. That's why it should not be exposed\u001b[0m\u001b[0;34m\u001b[0m\u001b[0;34m\u001b[0m\u001b[0;34m\u001b[0m\u001b[0m\n\u001b[1;32m    400\u001b[0m         \u001b[0;31m# to Machine users.\u001b[0m\u001b[0;34m\u001b[0m\u001b[0;34m\u001b[0m\u001b[0;34m\u001b[0m\u001b[0m\n\u001b[0;32m--> 401\u001b[0;31m         \u001b[0;32mreturn\u001b[0m \u001b[0mself\u001b[0m\u001b[0;34m.\u001b[0m\u001b[0mmachine\u001b[0m\u001b[0;34m.\u001b[0m\u001b[0m_process\u001b[0m\u001b[0;34m(\u001b[0m\u001b[0mfunc\u001b[0m\u001b[0;34m)\u001b[0m\u001b[0;34m\u001b[0m\u001b[0;34m\u001b[0m\u001b[0m\n\u001b[0m\u001b[1;32m    402\u001b[0m \u001b[0;34m\u001b[0m\u001b[0m\n\u001b[1;32m    403\u001b[0m     \u001b[0;32mdef\u001b[0m \u001b[0m_trigger\u001b[0m\u001b[0;34m(\u001b[0m\u001b[0mself\u001b[0m\u001b[0;34m,\u001b[0m \u001b[0mmodel\u001b[0m\u001b[0;34m,\u001b[0m \u001b[0;34m*\u001b[0m\u001b[0margs\u001b[0m\u001b[0;34m,\u001b[0m \u001b[0;34m**\u001b[0m\u001b[0mkwargs\u001b[0m\u001b[0;34m)\u001b[0m\u001b[0;34m:\u001b[0m\u001b[0;34m\u001b[0m\u001b[0;34m\u001b[0m\u001b[0m\n",
      "\u001b[0;32m~/miniconda3/envs/socal/lib/python3.9/site-packages/transitions/core.py\u001b[0m in \u001b[0;36m_process\u001b[0;34m(self, trigger)\u001b[0m\n\u001b[1;32m   1186\u001b[0m             \u001b[0;32mif\u001b[0m \u001b[0;32mnot\u001b[0m \u001b[0mself\u001b[0m\u001b[0;34m.\u001b[0m\u001b[0m_transition_queue\u001b[0m\u001b[0;34m:\u001b[0m\u001b[0;34m\u001b[0m\u001b[0;34m\u001b[0m\u001b[0m\n\u001b[1;32m   1187\u001b[0m                 \u001b[0;31m# if trigger raises an Error, it has to be handled by the Machine.process caller\u001b[0m\u001b[0;34m\u001b[0m\u001b[0;34m\u001b[0m\u001b[0;34m\u001b[0m\u001b[0m\n\u001b[0;32m-> 1188\u001b[0;31m                 \u001b[0;32mreturn\u001b[0m \u001b[0mtrigger\u001b[0m\u001b[0;34m(\u001b[0m\u001b[0;34m)\u001b[0m\u001b[0;34m\u001b[0m\u001b[0;34m\u001b[0m\u001b[0m\n\u001b[0m\u001b[1;32m   1189\u001b[0m             \u001b[0;32melse\u001b[0m\u001b[0;34m:\u001b[0m\u001b[0;34m\u001b[0m\u001b[0;34m\u001b[0m\u001b[0m\n\u001b[1;32m   1190\u001b[0m                 \u001b[0;32mraise\u001b[0m \u001b[0mMachineError\u001b[0m\u001b[0;34m(\u001b[0m\u001b[0;34m\"Attempt to process events synchronously while transition queue is not empty!\"\u001b[0m\u001b[0;34m)\u001b[0m\u001b[0;34m\u001b[0m\u001b[0;34m\u001b[0m\u001b[0m\n",
      "\u001b[0;32m~/miniconda3/envs/socal/lib/python3.9/site-packages/transitions/core.py\u001b[0m in \u001b[0;36m_trigger\u001b[0;34m(self, model, *args, **kwargs)\u001b[0m\n\u001b[1;32m    424\u001b[0m                 \u001b[0;32mraise\u001b[0m \u001b[0mMachineError\u001b[0m\u001b[0;34m(\u001b[0m\u001b[0mmsg\u001b[0m\u001b[0;34m)\u001b[0m\u001b[0;34m\u001b[0m\u001b[0;34m\u001b[0m\u001b[0m\n\u001b[1;32m    425\u001b[0m         \u001b[0mevent_data\u001b[0m \u001b[0;34m=\u001b[0m \u001b[0mEventData\u001b[0m\u001b[0;34m(\u001b[0m\u001b[0mstate\u001b[0m\u001b[0;34m,\u001b[0m \u001b[0mself\u001b[0m\u001b[0;34m,\u001b[0m \u001b[0mself\u001b[0m\u001b[0;34m.\u001b[0m\u001b[0mmachine\u001b[0m\u001b[0;34m,\u001b[0m \u001b[0mmodel\u001b[0m\u001b[0;34m,\u001b[0m \u001b[0margs\u001b[0m\u001b[0;34m=\u001b[0m\u001b[0margs\u001b[0m\u001b[0;34m,\u001b[0m \u001b[0mkwargs\u001b[0m\u001b[0;34m=\u001b[0m\u001b[0mkwargs\u001b[0m\u001b[0;34m)\u001b[0m\u001b[0;34m\u001b[0m\u001b[0;34m\u001b[0m\u001b[0m\n\u001b[0;32m--> 426\u001b[0;31m         \u001b[0;32mreturn\u001b[0m \u001b[0mself\u001b[0m\u001b[0;34m.\u001b[0m\u001b[0m_process\u001b[0m\u001b[0;34m(\u001b[0m\u001b[0mevent_data\u001b[0m\u001b[0;34m)\u001b[0m\u001b[0;34m\u001b[0m\u001b[0;34m\u001b[0m\u001b[0m\n\u001b[0m\u001b[1;32m    427\u001b[0m \u001b[0;34m\u001b[0m\u001b[0m\n\u001b[1;32m    428\u001b[0m     \u001b[0;32mdef\u001b[0m \u001b[0m_process\u001b[0m\u001b[0;34m(\u001b[0m\u001b[0mself\u001b[0m\u001b[0;34m,\u001b[0m \u001b[0mevent_data\u001b[0m\u001b[0;34m)\u001b[0m\u001b[0;34m:\u001b[0m\u001b[0;34m\u001b[0m\u001b[0;34m\u001b[0m\u001b[0m\n",
      "\u001b[0;32m~/miniconda3/envs/socal/lib/python3.9/site-packages/transitions/core.py\u001b[0m in \u001b[0;36m_process\u001b[0;34m(self, event_data)\u001b[0m\n\u001b[1;32m    433\u001b[0m             \u001b[0;32mfor\u001b[0m \u001b[0mtrans\u001b[0m \u001b[0;32min\u001b[0m \u001b[0mself\u001b[0m\u001b[0;34m.\u001b[0m\u001b[0mtransitions\u001b[0m\u001b[0;34m[\u001b[0m\u001b[0mevent_data\u001b[0m\u001b[0;34m.\u001b[0m\u001b[0mstate\u001b[0m\u001b[0;34m.\u001b[0m\u001b[0mname\u001b[0m\u001b[0;34m]\u001b[0m\u001b[0;34m:\u001b[0m\u001b[0;34m\u001b[0m\u001b[0;34m\u001b[0m\u001b[0m\n\u001b[1;32m    434\u001b[0m                 \u001b[0mevent_data\u001b[0m\u001b[0;34m.\u001b[0m\u001b[0mtransition\u001b[0m \u001b[0;34m=\u001b[0m \u001b[0mtrans\u001b[0m\u001b[0;34m\u001b[0m\u001b[0;34m\u001b[0m\u001b[0m\n\u001b[0;32m--> 435\u001b[0;31m                 \u001b[0;32mif\u001b[0m \u001b[0mtrans\u001b[0m\u001b[0;34m.\u001b[0m\u001b[0mexecute\u001b[0m\u001b[0;34m(\u001b[0m\u001b[0mevent_data\u001b[0m\u001b[0;34m)\u001b[0m\u001b[0;34m:\u001b[0m\u001b[0;34m\u001b[0m\u001b[0;34m\u001b[0m\u001b[0m\n\u001b[0m\u001b[1;32m    436\u001b[0m                     \u001b[0mevent_data\u001b[0m\u001b[0;34m.\u001b[0m\u001b[0mresult\u001b[0m \u001b[0;34m=\u001b[0m \u001b[0;32mTrue\u001b[0m\u001b[0;34m\u001b[0m\u001b[0;34m\u001b[0m\u001b[0m\n\u001b[1;32m    437\u001b[0m                     \u001b[0;32mbreak\u001b[0m\u001b[0;34m\u001b[0m\u001b[0;34m\u001b[0m\u001b[0m\n",
      "\u001b[0;32m~/miniconda3/envs/socal/lib/python3.9/site-packages/transitions/core.py\u001b[0m in \u001b[0;36mexecute\u001b[0;34m(self, event_data)\u001b[0m\n\u001b[1;32m    276\u001b[0m             \u001b[0mself\u001b[0m\u001b[0;34m.\u001b[0m\u001b[0m_change_state\u001b[0m\u001b[0;34m(\u001b[0m\u001b[0mevent_data\u001b[0m\u001b[0;34m)\u001b[0m\u001b[0;34m\u001b[0m\u001b[0;34m\u001b[0m\u001b[0m\n\u001b[1;32m    277\u001b[0m \u001b[0;34m\u001b[0m\u001b[0m\n\u001b[0;32m--> 278\u001b[0;31m         \u001b[0mevent_data\u001b[0m\u001b[0;34m.\u001b[0m\u001b[0mmachine\u001b[0m\u001b[0;34m.\u001b[0m\u001b[0mcallbacks\u001b[0m\u001b[0;34m(\u001b[0m\u001b[0mitertools\u001b[0m\u001b[0;34m.\u001b[0m\u001b[0mchain\u001b[0m\u001b[0;34m(\u001b[0m\u001b[0mself\u001b[0m\u001b[0;34m.\u001b[0m\u001b[0mafter\u001b[0m\u001b[0;34m,\u001b[0m \u001b[0mevent_data\u001b[0m\u001b[0;34m.\u001b[0m\u001b[0mmachine\u001b[0m\u001b[0;34m.\u001b[0m\u001b[0mafter_state_change\u001b[0m\u001b[0;34m)\u001b[0m\u001b[0;34m,\u001b[0m \u001b[0mevent_data\u001b[0m\u001b[0;34m)\u001b[0m\u001b[0;34m\u001b[0m\u001b[0;34m\u001b[0m\u001b[0m\n\u001b[0m\u001b[1;32m    279\u001b[0m         \u001b[0m_LOGGER\u001b[0m\u001b[0;34m.\u001b[0m\u001b[0mdebug\u001b[0m\u001b[0;34m(\u001b[0m\u001b[0;34m\"%sExecuted callback after transition.\"\u001b[0m\u001b[0;34m,\u001b[0m \u001b[0mevent_data\u001b[0m\u001b[0;34m.\u001b[0m\u001b[0mmachine\u001b[0m\u001b[0;34m.\u001b[0m\u001b[0mname\u001b[0m\u001b[0;34m)\u001b[0m\u001b[0;34m\u001b[0m\u001b[0;34m\u001b[0m\u001b[0m\n\u001b[1;32m    280\u001b[0m         \u001b[0;32mreturn\u001b[0m \u001b[0;32mTrue\u001b[0m\u001b[0;34m\u001b[0m\u001b[0;34m\u001b[0m\u001b[0m\n",
      "\u001b[0;32m~/miniconda3/envs/socal/lib/python3.9/site-packages/transitions/core.py\u001b[0m in \u001b[0;36mcallbacks\u001b[0;34m(self, funcs, event_data)\u001b[0m\n\u001b[1;32m   1121\u001b[0m         \u001b[0;34m\"\"\" Triggers a list of callbacks \"\"\"\u001b[0m\u001b[0;34m\u001b[0m\u001b[0;34m\u001b[0m\u001b[0m\n\u001b[1;32m   1122\u001b[0m         \u001b[0;32mfor\u001b[0m \u001b[0mfunc\u001b[0m \u001b[0;32min\u001b[0m \u001b[0mfuncs\u001b[0m\u001b[0;34m:\u001b[0m\u001b[0;34m\u001b[0m\u001b[0;34m\u001b[0m\u001b[0m\n\u001b[0;32m-> 1123\u001b[0;31m             \u001b[0mself\u001b[0m\u001b[0;34m.\u001b[0m\u001b[0mcallback\u001b[0m\u001b[0;34m(\u001b[0m\u001b[0mfunc\u001b[0m\u001b[0;34m,\u001b[0m \u001b[0mevent_data\u001b[0m\u001b[0;34m)\u001b[0m\u001b[0;34m\u001b[0m\u001b[0;34m\u001b[0m\u001b[0m\n\u001b[0m\u001b[1;32m   1124\u001b[0m             \u001b[0m_LOGGER\u001b[0m\u001b[0;34m.\u001b[0m\u001b[0minfo\u001b[0m\u001b[0;34m(\u001b[0m\u001b[0;34m\"%sExecuted callback '%s'\"\u001b[0m\u001b[0;34m,\u001b[0m \u001b[0mself\u001b[0m\u001b[0;34m.\u001b[0m\u001b[0mname\u001b[0m\u001b[0;34m,\u001b[0m \u001b[0mfunc\u001b[0m\u001b[0;34m)\u001b[0m\u001b[0;34m\u001b[0m\u001b[0;34m\u001b[0m\u001b[0m\n\u001b[1;32m   1125\u001b[0m \u001b[0;34m\u001b[0m\u001b[0m\n",
      "\u001b[0;32m~/miniconda3/envs/socal/lib/python3.9/site-packages/transitions/core.py\u001b[0m in \u001b[0;36mcallback\u001b[0;34m(self, func, event_data)\u001b[0m\n\u001b[1;32m   1142\u001b[0m             \u001b[0mfunc\u001b[0m\u001b[0;34m(\u001b[0m\u001b[0mevent_data\u001b[0m\u001b[0;34m)\u001b[0m\u001b[0;34m\u001b[0m\u001b[0;34m\u001b[0m\u001b[0m\n\u001b[1;32m   1143\u001b[0m         \u001b[0;32melse\u001b[0m\u001b[0;34m:\u001b[0m\u001b[0;34m\u001b[0m\u001b[0;34m\u001b[0m\u001b[0m\n\u001b[0;32m-> 1144\u001b[0;31m             \u001b[0mfunc\u001b[0m\u001b[0;34m(\u001b[0m\u001b[0;34m*\u001b[0m\u001b[0mevent_data\u001b[0m\u001b[0;34m.\u001b[0m\u001b[0margs\u001b[0m\u001b[0;34m,\u001b[0m \u001b[0;34m**\u001b[0m\u001b[0mevent_data\u001b[0m\u001b[0;34m.\u001b[0m\u001b[0mkwargs\u001b[0m\u001b[0;34m)\u001b[0m\u001b[0;34m\u001b[0m\u001b[0;34m\u001b[0m\u001b[0m\n\u001b[0m\u001b[1;32m   1145\u001b[0m \u001b[0;34m\u001b[0m\u001b[0m\n\u001b[1;32m   1146\u001b[0m     \u001b[0;34m@\u001b[0m\u001b[0mstaticmethod\u001b[0m\u001b[0;34m\u001b[0m\u001b[0;34m\u001b[0m\u001b[0m\n",
      "\u001b[0;32m~/Dropbox/My Mac (Ryan's MacBook Pro)/Documents/CPS/KPF/code/KPF-SoCal/SolarCalibrator.py\u001b[0m in \u001b[0;36mdid_open\u001b[0;34m(self)\u001b[0m\n\u001b[1;32m    128\u001b[0m         \u001b[0;32melse\u001b[0m\u001b[0;34m:\u001b[0m\u001b[0;34m\u001b[0m\u001b[0;34m\u001b[0m\u001b[0m\n\u001b[1;32m    129\u001b[0m             \u001b[0mdome_status\u001b[0m \u001b[0;34m=\u001b[0m \u001b[0mself\u001b[0m\u001b[0;34m.\u001b[0m\u001b[0mdispatcher\u001b[0m\u001b[0;34m.\u001b[0m\u001b[0mget_dome_status\u001b[0m\u001b[0;34m(\u001b[0m\u001b[0;34m)\u001b[0m\u001b[0;34m\u001b[0m\u001b[0;34m\u001b[0m\u001b[0m\n\u001b[0;32m--> 130\u001b[0;31m             \u001b[0mprint\u001b[0m\u001b[0;34m(\u001b[0m\u001b[0;34m'ERROR! The dome did not open. In fact, it is {}'\u001b[0m\u001b[0;34m.\u001b[0m\u001b[0mformat\u001b[0m\u001b[0;34m(\u001b[0m\u001b[0mdome_status\u001b[0m\u001b[0;34m[\u001b[0m\u001b[0;34m'Dome state'\u001b[0m\u001b[0;34m]\u001b[0m\u001b[0;34m)\u001b[0m\u001b[0;34m)\u001b[0m\u001b[0;34m\u001b[0m\u001b[0;34m\u001b[0m\u001b[0m\n\u001b[0m\u001b[1;32m    131\u001b[0m             \u001b[0;31m# self.errored()\u001b[0m\u001b[0;34m\u001b[0m\u001b[0;34m\u001b[0m\u001b[0;34m\u001b[0m\u001b[0m\n\u001b[1;32m    132\u001b[0m \u001b[0;34m\u001b[0m\u001b[0m\n",
      "\u001b[0;31mKeyError\u001b[0m: 'Dome state'"
     ]
    }
   ],
   "source": [
    "socal.open()"
   ]
  },
  {
   "cell_type": "code",
   "execution_count": 20,
   "id": "1c4f90af",
   "metadata": {},
   "outputs": [
    {
     "data": {
      "text/plain": [
       "{'Status': 'Unknown',\n",
       " 'OP mode': 'Remote',\n",
       " 'Limits': {'open left': False,\n",
       "  'open right': False,\n",
       "  'close left': False,\n",
       "  'close right': False},\n",
       " 'Motor': {'status': 'Stopped',\n",
       "  'current': 0.0,\n",
       "  'measured max': 0.0,\n",
       "  'last overcurrent': nan},\n",
       " 'Temperatures': {'inside': 102.2, 'outside': 120.56, 'ebox': 91.4},\n",
       " 'Sensors': {'rain': 'off', 'light': 'off', 'power': 'on'},\n",
       " 'Watchdog': {'status': 'enabled', 'timeout': '5 sec'},\n",
       " 'Last command': 'status'}"
      ]
     },
     "execution_count": 20,
     "metadata": {},
     "output_type": "execute_result"
    }
   ],
   "source": [
    "dome_status = socal.dispatcher.get_dome_status()\n",
    "dome_status"
   ]
  },
  {
   "cell_type": "code",
   "execution_count": 16,
   "id": "3399d5bd",
   "metadata": {},
   "outputs": [],
   "source": [
    "# socal.dispatcher.dome.ws.recv()"
   ]
  },
  {
   "cell_type": "code",
   "execution_count": 17,
   "id": "ae78017e",
   "metadata": {
    "scrolled": false
   },
   "outputs": [
    {
     "data": {
      "text/plain": [
       "'Opening'"
      ]
     },
     "execution_count": 17,
     "metadata": {},
     "output_type": "execute_result"
    }
   ],
   "source": [
    "socal.state"
   ]
  },
  {
   "cell_type": "code",
   "execution_count": 18,
   "id": "cb48e467",
   "metadata": {},
   "outputs": [
    {
     "name": "stderr",
     "output_type": "stream",
     "text": [
      "DEBUG:transitions.core:Executed machine preparation callbacks before conditions.\n",
      "DEBUG:transitions.core:Initiating transition from state Opening to state OnSky...\n",
      "INFO:transitions.core:Executed callback 'can_guide'\n",
      "DEBUG:transitions.core:Executed callbacks before conditions.\n"
     ]
    },
    {
     "name": "stdout",
     "output_type": "stream",
     "text": [
      "Fetching date/time from tracker...\n",
      "Sending command: b'TM\\r'\n",
      "Sent 3 bytes\n",
      "Dome opened. Setting tracker to active guiding mode...\n",
      "Setting active tracking mode to 3 - Sun-sensor with learning tracking mode\n",
      "Sending command: b'MD,3\\r'\n",
      "Sent 5 bytes\n"
     ]
    },
    {
     "name": "stderr",
     "output_type": "stream",
     "text": [
      "INFO:transitions.core:Executed callback 'start_guiding'\n",
      "DEBUG:transitions.core:Executed callback before transition.\n",
      "DEBUG:transitions.core:Exiting state Opening. Processing callbacks...\n",
      "INFO:transitions.core:Finished processing state Opening exit callbacks.\n",
      "DEBUG:transitions.core:Entering state OnSky. Processing callbacks...\n",
      "INFO:transitions.core:Finished processing state OnSky enter callbacks.\n",
      "INFO:transitions.core:Executed callback 'are_guiding'\n",
      "DEBUG:transitions.core:Executed callback after transition.\n",
      "DEBUG:transitions.core:Executed machine finalize callbacks\n"
     ]
    },
    {
     "name": "stdout",
     "output_type": "stream",
     "text": [
      "Fetching active tracking mode...\n",
      "Sending command: b'MD\\r'\n",
      "Sent 3 bytes\n",
      "Current tracking mode: 3 - Sun-sensor with learning tracking mode\n",
      "Guiding on Sun. Get yer photons here!\n"
     ]
    },
    {
     "data": {
      "text/plain": [
       "True"
      ]
     },
     "execution_count": 18,
     "metadata": {},
     "output_type": "execute_result"
    }
   ],
   "source": [
    "socal.guide()"
   ]
  },
  {
   "cell_type": "code",
   "execution_count": null,
   "id": "b69db2e9",
   "metadata": {},
   "outputs": [],
   "source": []
  },
  {
   "cell_type": "markdown",
   "id": "62b71f40",
   "metadata": {},
   "source": [
    "## Close and home tracker"
   ]
  },
  {
   "cell_type": "code",
   "execution_count": 14,
   "id": "5e285128",
   "metadata": {
    "scrolled": true
   },
   "outputs": [
    {
     "name": "stderr",
     "output_type": "stream",
     "text": [
      "DEBUG:transitions.core:Executed machine preparation callbacks before conditions.\n",
      "DEBUG:transitions.core:Initiating transition from state OnSky to state Closing...\n",
      "DEBUG:transitions.core:Executed callbacks before conditions.\n",
      "INFO:transitions.core:Executed callback 'can_close'\n",
      "DEBUG:transitions.core:Executed callback before transition.\n",
      "DEBUG:transitions.core:Exiting state OnSky. Processing callbacks...\n",
      "INFO:transitions.core:Finished processing state OnSky exit callbacks.\n",
      "DEBUG:transitions.core:Entering state Closing. Processing callbacks...\n"
     ]
    },
    {
     "name": "stdout",
     "output_type": "stream",
     "text": [
      "Closing SoCal dome...\n",
      "Dome in motion: Closing...\n",
      "Dome in motion: Closing...\n",
      "Dome in motion: Closing...\n",
      "Dome in motion: Closing...\n",
      "Dome in motion: Closing...\n",
      "Dome in motion: Closing...\n",
      "Dome in motion: Closing...\n",
      "Dome in motion: Closing...\n",
      "Dome in motion: Closing...\n",
      "Dome in motion: Closing...\n",
      "Dome in motion: Closing...\n",
      "Dome in motion: Closing...\n",
      "Dome in motion: Closing...\n",
      "Dome in motion: Closing...\n",
      "Dome in motion: Closing...\n",
      "Dome in motion: Closing...\n",
      "Dome in motion: Closing...\n",
      "Dome in motion: Closing...\n",
      "Dome in motion: Closing...\n",
      "Dome in motion: Closing...\n",
      "Dome in motion: Closing...\n",
      "Dome in motion: Closing...\n",
      "Dome in motion: Closing...\n",
      "Dome in motion: Closing...\n",
      "Dome in motion: Closing...\n",
      "Dome in motion: Closing...\n",
      "Dome in motion: Closing...\n",
      "Dome in motion: Closing...\n",
      "Dome in motion: Closing...\n",
      "Dome in motion: Closing...\n"
     ]
    },
    {
     "name": "stderr",
     "output_type": "stream",
     "text": [
      "INFO:transitions.core:Executed callback 'close_dome'\n",
      "INFO:transitions.core:Finished processing state Closing enter callbacks.\n",
      "DEBUG:transitions.core:Executed machine preparation callbacks before conditions.\n",
      "DEBUG:transitions.core:Initiating transition from state Closing to state Stowed...\n",
      "INFO:transitions.core:Executed callback 'can_stow'\n",
      "DEBUG:transitions.core:Executed callbacks before conditions.\n"
     ]
    },
    {
     "name": "stdout",
     "output_type": "stream",
     "text": [
      "Dome move complete.\n",
      "Dome closed successfully.\n",
      "Fetching date/time from tracker...\n",
      "Sending command: b'TM\\r'\n",
      "Sent 3 bytes\n",
      "Dome closed. Moving tracker to 'home'...\n",
      "Fetching active tracking mode...\n",
      "Sending command: b'MD\\r'\n",
      "Sent 3 bytes\n",
      "Current tracking mode: 3 - Sun-sensor with learning tracking mode\n",
      "Setting active tracking mode to 0 - Manual tracking mode\n",
      "Sending command: b'MD,0\\r'\n",
      "Sent 5 bytes\n",
      "OK\n",
      "Slewing to\n",
      "\tAlt = 0.000\n",
      "\t Az = 0.000\n",
      "Sending command: b'MP,0.000,0.000\\r'\n",
      "Sent 15 bytes\n"
     ]
    },
    {
     "name": "stderr",
     "output_type": "stream",
     "text": [
      "INFO:transitions.core:Executed callback 'stow_tracker'\n",
      "DEBUG:transitions.core:Executed callback before transition.\n",
      "DEBUG:transitions.core:Exiting state Closing. Processing callbacks...\n",
      "INFO:transitions.core:Finished processing state Closing exit callbacks.\n",
      "DEBUG:transitions.core:Entering state Stowed. Processing callbacks...\n",
      "INFO:transitions.core:Finished processing state Stowed enter callbacks.\n"
     ]
    },
    {
     "name": "stdout",
     "output_type": "stream",
     "text": [
      "OK\n",
      "Fetching current tracker position...\n",
      "Sending command: b'MR\\r'\n",
      "Sent 3 bytes\n",
      "Now pointing at\n",
      "\tAlt = 0.000\n",
      "\t Az = 0.000\n",
      "Fetching current tracker position...\n",
      "Sending command: b'MR\\r'\n",
      "Sent 3 bytes\n",
      "Fetching current tracker position...\n",
      "Sending command: b'MR\\r'\n",
      "Sent 3 bytes\n",
      "Fetching active tracking mode...\n",
      "Sending command: b'MD\\r'\n",
      "Sent 3 bytes\n"
     ]
    },
    {
     "name": "stderr",
     "output_type": "stream",
     "text": [
      "INFO:transitions.core:Executed callback 'did_stow'\n",
      "DEBUG:transitions.core:Executed callback after transition.\n",
      "DEBUG:transitions.core:Executed machine finalize callbacks\n",
      "INFO:transitions.core:Executed callback 'did_close'\n",
      "DEBUG:transitions.core:Executed callback after transition.\n",
      "DEBUG:transitions.core:Executed machine finalize callbacks\n"
     ]
    },
    {
     "name": "stdout",
     "output_type": "stream",
     "text": [
      "Current tracking mode: 0 - Manual tracking mode\n"
     ]
    },
    {
     "data": {
      "text/plain": [
       "True"
      ]
     },
     "execution_count": 14,
     "metadata": {},
     "output_type": "execute_result"
    }
   ],
   "source": [
    "socal.close()"
   ]
  },
  {
   "cell_type": "code",
   "execution_count": 15,
   "id": "45f3ad4e",
   "metadata": {
    "scrolled": true
   },
   "outputs": [
    {
     "data": {
      "text/plain": [
       "'Stowed'"
      ]
     },
     "execution_count": 15,
     "metadata": {},
     "output_type": "execute_result"
    }
   ],
   "source": [
    "socal.state"
   ]
  },
  {
   "cell_type": "code",
   "execution_count": 16,
   "id": "7a3fd670",
   "metadata": {},
   "outputs": [],
   "source": [
    "# socal.dispatcher.tracker.slew(0,0)"
   ]
  },
  {
   "cell_type": "markdown",
   "id": "44686b1c",
   "metadata": {},
   "source": [
    "# Close the connections"
   ]
  },
  {
   "cell_type": "code",
   "execution_count": 15,
   "id": "57bc4c6e",
   "metadata": {
    "scrolled": false
   },
   "outputs": [
    {
     "name": "stdout",
     "output_type": "stream",
     "text": [
      "Closed WebSocket connection at ws://192.168.23.244:4030/ws.\n"
     ]
    }
   ],
   "source": [
    "socal.dispatcher.dome.close_ws()"
   ]
  },
  {
   "cell_type": "code",
   "execution_count": 16,
   "id": "f835b6d6",
   "metadata": {},
   "outputs": [
    {
     "name": "stdout",
     "output_type": "stream",
     "text": [
      "Closed connection to 192.168.23.242 at Port 10001\n"
     ]
    }
   ],
   "source": [
    "socal.dispatcher.tracker.close_connection()"
   ]
  },
  {
   "cell_type": "markdown",
   "id": "1b4fae3a",
   "metadata": {},
   "source": [
    "# dome.status() while closed, opening, open, closing, closed"
   ]
  },
  {
   "cell_type": "markdown",
   "id": "f652c6fd",
   "metadata": {},
   "source": [
    "`Closed,0,0,1,1,Stopped,0.0,Remote,Sensors:, Power: on, Rain: off, Light: off`\n",
    "\n",
    "`Unknown,0,0,0,0,Opening,0.9,Remote,Sensors:, Power: on, Rain: off, Light: off`\n",
    "\n",
    "`Open,1,1,0,0,Stopped,0.0,Remote,Sensors:, Power: on, Rain: off, Light: off`\n",
    "\n",
    "`Unknown,0,0,0,0,Closing,0.9,Remote,Sensors:, Power: on, Rain: off, Light: off`\n",
    "\n",
    "`Closed,0,0,1,1,Stopped,0.0,Remote,Sensors:, Power: on, Rain: off, Light: off`"
   ]
  },
  {
   "cell_type": "code",
   "execution_count": null,
   "id": "15d1cfd0",
   "metadata": {},
   "outputs": [],
   "source": []
  }
 ],
 "metadata": {
  "kernelspec": {
   "display_name": "Python 3",
   "language": "python",
   "name": "python3"
  },
  "language_info": {
   "codemirror_mode": {
    "name": "ipython",
    "version": 3
   },
   "file_extension": ".py",
   "mimetype": "text/x-python",
   "name": "python",
   "nbconvert_exporter": "python",
   "pygments_lexer": "ipython3",
   "version": "3.9.4"
  }
 },
 "nbformat": 4,
 "nbformat_minor": 5
}
