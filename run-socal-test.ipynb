{
 "cells": [
  {
   "cell_type": "code",
   "execution_count": 1,
   "id": "d54ff596",
   "metadata": {},
   "outputs": [],
   "source": [
    "import logging\n",
    "\n",
    "from SolarCalibrator import SoCal\n",
    "from Dispatcher import CreateDispatcher"
   ]
  },
  {
   "cell_type": "code",
   "execution_count": 2,
   "id": "703cdfc3",
   "metadata": {},
   "outputs": [],
   "source": [
    "logging.basicConfig(level=logging.DEBUG)"
   ]
  },
  {
   "cell_type": "markdown",
   "id": "b716fdde",
   "metadata": {},
   "source": [
    "# Start SoCal Dispatcher"
   ]
  },
  {
   "cell_type": "code",
   "execution_count": 3,
   "id": "9b779702",
   "metadata": {},
   "outputs": [
    {
     "name": "stdout",
     "output_type": "stream",
     "text": [
      "Opened WebSocket at ws://192.168.23.244:4030/ws\n",
      "Connected to 192.168.23.242 at Port 10001\n",
      "Connected to SoCalDispatcher.\n"
     ]
    }
   ],
   "source": [
    "CreateDispatcher()"
   ]
  },
  {
   "cell_type": "markdown",
   "id": "5b54012c",
   "metadata": {},
   "source": [
    "# Initialize SoCal state machine"
   ]
  },
  {
   "cell_type": "code",
   "execution_count": 4,
   "id": "b7bac48f",
   "metadata": {},
   "outputs": [
    {
     "name": "stdout",
     "output_type": "stream",
     "text": [
      "Connected to SoCalDispatcher.\n"
     ]
    }
   ],
   "source": [
    "socal = SoCal()"
   ]
  },
  {
   "cell_type": "code",
   "execution_count": 5,
   "id": "6df9acbf",
   "metadata": {},
   "outputs": [
    {
     "data": {
      "text/plain": [
       "'PoweredOff'"
      ]
     },
     "execution_count": 5,
     "metadata": {},
     "output_type": "execute_result"
    }
   ],
   "source": [
    "socal.state"
   ]
  },
  {
   "cell_type": "markdown",
   "id": "3c7dc6b6",
   "metadata": {},
   "source": [
    "## Power on (for now, manually turn power on)"
   ]
  },
  {
   "cell_type": "code",
   "execution_count": 6,
   "id": "627a37f9",
   "metadata": {},
   "outputs": [
    {
     "name": "stderr",
     "output_type": "stream",
     "text": [
      "DEBUG:transitions.core:Executed machine preparation callbacks before conditions.\n",
      "DEBUG:transitions.core:Initiating transition from state PoweredOff to state Stowed...\n",
      "INFO:transitions.core:Executed callback 'can_power_on'\n",
      "DEBUG:transitions.core:Executed callbacks before conditions.\n",
      "INFO:transitions.core:Executed callback 'power_on_system'\n",
      "DEBUG:transitions.core:Executed callback before transition.\n",
      "DEBUG:transitions.core:Exiting state PoweredOff. Processing callbacks...\n",
      "INFO:transitions.core:Finished processing state PoweredOff exit callbacks.\n",
      "DEBUG:transitions.core:Entering state Stowed. Processing callbacks...\n",
      "INFO:transitions.core:Finished processing state Stowed enter callbacks.\n",
      "INFO:transitions.core:Executed callback 'did_power_on'\n",
      "DEBUG:transitions.core:Executed callback after transition.\n",
      "DEBUG:transitions.core:Executed machine finalize callbacks\n"
     ]
    },
    {
     "name": "stdout",
     "output_type": "stream",
     "text": [
      "Powering on SoCal\n"
     ]
    },
    {
     "data": {
      "text/plain": [
       "True"
      ]
     },
     "execution_count": 6,
     "metadata": {},
     "output_type": "execute_result"
    }
   ],
   "source": [
    "socal.power_on()"
   ]
  },
  {
   "cell_type": "code",
   "execution_count": 7,
   "id": "141946e5",
   "metadata": {},
   "outputs": [
    {
     "data": {
      "text/plain": [
       "'Stowed'"
      ]
     },
     "execution_count": 7,
     "metadata": {},
     "output_type": "execute_result"
    }
   ],
   "source": [
    "socal.state"
   ]
  },
  {
   "cell_type": "markdown",
   "id": "8f8a9dbd",
   "metadata": {},
   "source": [
    "## Check dome status"
   ]
  },
  {
   "cell_type": "code",
   "execution_count": 8,
   "id": "d086d7fb",
   "metadata": {},
   "outputs": [
    {
     "data": {
      "text/plain": [
       "{'Status': 'Closed',\n",
       " 'OP mode': 'Remote',\n",
       " 'Limits': {'open left': False,\n",
       "  'open right': False,\n",
       "  'close left': True,\n",
       "  'close right': True},\n",
       " 'Motor': {'status': 'Stopped',\n",
       "  'current': 0.1,\n",
       "  'measured max': 1.8,\n",
       "  'last overcurrent': nan},\n",
       " 'Temperatures': {'inside': 71.78, 'outside': 75.02, 'ebox': 78.98},\n",
       " 'Sensors': {'rain': 'off', 'light': 'off', 'power': 'on'},\n",
       " 'Watchdog': {'status': 'disabled', 'timeout': '0 sec'},\n",
       " 'Last command': 'status'}"
      ]
     },
     "execution_count": 8,
     "metadata": {},
     "output_type": "execute_result"
    }
   ],
   "source": [
    "dome_status = socal.dispatcher.get_dome_status()\n",
    "dome_status"
   ]
  },
  {
   "cell_type": "code",
   "execution_count": 9,
   "id": "a5e469e1",
   "metadata": {},
   "outputs": [
    {
     "data": {
      "text/plain": [
       "(False, True)"
      ]
     },
     "execution_count": 9,
     "metadata": {},
     "output_type": "execute_result"
    }
   ],
   "source": [
    "socal.dispatcher.is_domeopen, socal.dispatcher.is_domeclosed"
   ]
  },
  {
   "cell_type": "code",
   "execution_count": 10,
   "id": "4b4f2c6b",
   "metadata": {},
   "outputs": [],
   "source": [
    "# socal.dispatcher.dome.ws.recv()"
   ]
  },
  {
   "cell_type": "markdown",
   "id": "b503eba2",
   "metadata": {},
   "source": [
    "# Open dome and start guiding"
   ]
  },
  {
   "cell_type": "code",
   "execution_count": 11,
   "id": "6bd3266c",
   "metadata": {
    "scrolled": true
   },
   "outputs": [],
   "source": [
    "# socal.may_open()"
   ]
  },
  {
   "cell_type": "code",
   "execution_count": 12,
   "id": "7e9820fd",
   "metadata": {
    "scrolled": true
   },
   "outputs": [
    {
     "name": "stderr",
     "output_type": "stream",
     "text": [
      "DEBUG:transitions.core:Executed machine preparation callbacks before conditions.\n",
      "DEBUG:transitions.core:Initiating transition from state Stowed to state Opening...\n",
      "DEBUG:transitions.core:Executed callbacks before conditions.\n",
      "INFO:transitions.core:Executed callback 'can_open'\n",
      "DEBUG:transitions.core:Executed callback before transition.\n",
      "DEBUG:transitions.core:Exiting state Stowed. Processing callbacks...\n",
      "INFO:transitions.core:Finished processing state Stowed exit callbacks.\n",
      "DEBUG:transitions.core:Entering state Opening. Processing callbacks...\n"
     ]
    },
    {
     "name": "stdout",
     "output_type": "stream",
     "text": [
      "Opening SoCal dome...\n",
      "Dome in motion: Opening...\n",
      "Dome in motion: Opening...\n",
      "Dome in motion: Opening...\n",
      "Dome in motion: Opening...\n",
      "Dome in motion: Opening...\n",
      "Dome in motion: Opening...\n",
      "Dome in motion: Opening...\n",
      "Dome in motion: Opening...\n",
      "Dome in motion: Opening...\n",
      "Dome in motion: Opening...\n",
      "Dome in motion: Opening...\n",
      "Dome in motion: Opening...\n",
      "Dome in motion: Opening...\n",
      "Dome in motion: Opening...\n",
      "Dome in motion: Opening...\n",
      "Dome in motion: Opening...\n",
      "Dome in motion: Opening...\n",
      "Dome in motion: Opening...\n",
      "Dome in motion: Opening...\n",
      "Dome in motion: Opening...\n",
      "Dome in motion: Opening...\n",
      "Dome in motion: Opening...\n",
      "Dome in motion: Opening...\n",
      "Dome in motion: Opening...\n",
      "Dome in motion: Opening...\n",
      "Dome in motion: Opening...\n",
      "Dome in motion: Opening...\n",
      "Dome in motion: Opening...\n",
      "Dome in motion: Opening...\n"
     ]
    },
    {
     "name": "stderr",
     "output_type": "stream",
     "text": [
      "INFO:transitions.core:Executed callback 'open_dome'\n",
      "INFO:transitions.core:Finished processing state Opening enter callbacks.\n",
      "DEBUG:transitions.core:Executed machine preparation callbacks before conditions.\n",
      "DEBUG:transitions.core:Initiating transition from state Opening to state OnSky...\n",
      "INFO:transitions.core:Executed callback 'can_guide'\n",
      "DEBUG:transitions.core:Executed callbacks before conditions.\n"
     ]
    },
    {
     "name": "stdout",
     "output_type": "stream",
     "text": [
      "Dome move complete.\n",
      "Dome opened successfully.\n",
      "Fetching date/time from tracker...\n",
      "Sending command: b'TM\\r'\n",
      "Sent 3 bytes\n",
      "Dome opened. Setting tracker to active guiding mode...\n",
      "Setting active tracking mode to 3 - Sun-sensor with learning tracking mode\n",
      "Sending command: b'MD,3\\r'\n",
      "Sent 5 bytes\n"
     ]
    },
    {
     "name": "stderr",
     "output_type": "stream",
     "text": [
      "INFO:transitions.core:Executed callback 'start_guiding'\n",
      "DEBUG:transitions.core:Executed callback before transition.\n",
      "DEBUG:transitions.core:Exiting state Opening. Processing callbacks...\n",
      "INFO:transitions.core:Finished processing state Opening exit callbacks.\n",
      "DEBUG:transitions.core:Entering state OnSky. Processing callbacks...\n",
      "INFO:transitions.core:Finished processing state OnSky enter callbacks.\n",
      "INFO:transitions.core:Executed callback 'are_guiding'\n",
      "DEBUG:transitions.core:Executed callback after transition.\n",
      "DEBUG:transitions.core:Executed machine finalize callbacks\n",
      "INFO:transitions.core:Executed callback 'did_open'\n",
      "DEBUG:transitions.core:Executed callback after transition.\n",
      "DEBUG:transitions.core:Executed machine finalize callbacks\n"
     ]
    },
    {
     "name": "stdout",
     "output_type": "stream",
     "text": [
      "Fetching active tracking mode...\n",
      "Sending command: b'MD\\r'\n",
      "Sent 3 bytes\n",
      "Current tracking mode: 3 - Sun-sensor with learning tracking mode\n",
      "Guiding on Sun. Get yer photons here!\n"
     ]
    },
    {
     "data": {
      "text/plain": [
       "True"
      ]
     },
     "execution_count": 12,
     "metadata": {},
     "output_type": "execute_result"
    }
   ],
   "source": [
    "socal.open()"
   ]
  },
  {
   "cell_type": "code",
   "execution_count": 13,
   "id": "b0a782eb",
   "metadata": {
    "scrolled": true
   },
   "outputs": [
    {
     "data": {
      "text/plain": [
       "'OnSky'"
      ]
     },
     "execution_count": 13,
     "metadata": {},
     "output_type": "execute_result"
    }
   ],
   "source": [
    "socal.state"
   ]
  },
  {
   "cell_type": "markdown",
   "id": "e8a76ed9",
   "metadata": {},
   "source": [
    "## Close and home tracker"
   ]
  },
  {
   "cell_type": "code",
   "execution_count": 14,
   "id": "d3c0bbd8",
   "metadata": {
    "scrolled": true
   },
   "outputs": [
    {
     "name": "stderr",
     "output_type": "stream",
     "text": [
      "DEBUG:transitions.core:Executed machine preparation callbacks before conditions.\n",
      "DEBUG:transitions.core:Initiating transition from state OnSky to state Closing...\n",
      "DEBUG:transitions.core:Executed callbacks before conditions.\n",
      "INFO:transitions.core:Executed callback 'can_close'\n",
      "DEBUG:transitions.core:Executed callback before transition.\n",
      "DEBUG:transitions.core:Exiting state OnSky. Processing callbacks...\n",
      "INFO:transitions.core:Finished processing state OnSky exit callbacks.\n",
      "DEBUG:transitions.core:Entering state Closing. Processing callbacks...\n"
     ]
    },
    {
     "name": "stdout",
     "output_type": "stream",
     "text": [
      "Closing SoCal dome...\n",
      "Dome in motion: Closing...\n",
      "Dome in motion: Closing...\n",
      "Dome in motion: Closing...\n",
      "Dome in motion: Closing...\n",
      "Dome in motion: Closing...\n",
      "Dome in motion: Closing...\n",
      "Dome in motion: Closing...\n",
      "Dome in motion: Closing...\n",
      "Dome in motion: Closing...\n",
      "Dome in motion: Closing...\n",
      "Dome in motion: Closing...\n",
      "Dome in motion: Closing...\n",
      "Dome in motion: Closing...\n",
      "Dome in motion: Closing...\n",
      "Dome in motion: Closing...\n",
      "Dome in motion: Closing...\n",
      "Dome in motion: Closing...\n",
      "Dome in motion: Closing...\n",
      "Dome in motion: Closing...\n",
      "Dome in motion: Closing...\n",
      "Dome in motion: Closing...\n",
      "Dome in motion: Closing...\n",
      "Dome in motion: Closing...\n",
      "Dome in motion: Closing...\n",
      "Dome in motion: Closing...\n",
      "Dome in motion: Closing...\n",
      "Dome in motion: Closing...\n",
      "Dome in motion: Closing...\n",
      "Dome in motion: Closing...\n",
      "Dome in motion: Closing...\n"
     ]
    },
    {
     "name": "stderr",
     "output_type": "stream",
     "text": [
      "INFO:transitions.core:Executed callback 'close_dome'\n",
      "INFO:transitions.core:Finished processing state Closing enter callbacks.\n",
      "DEBUG:transitions.core:Executed machine preparation callbacks before conditions.\n",
      "DEBUG:transitions.core:Initiating transition from state Closing to state Stowed...\n",
      "INFO:transitions.core:Executed callback 'can_stow'\n",
      "DEBUG:transitions.core:Executed callbacks before conditions.\n"
     ]
    },
    {
     "name": "stdout",
     "output_type": "stream",
     "text": [
      "Dome move complete.\n",
      "Dome closed successfully.\n",
      "Fetching date/time from tracker...\n",
      "Sending command: b'TM\\r'\n",
      "Sent 3 bytes\n",
      "Dome closed. Moving tracker to 'home'...\n",
      "Fetching active tracking mode...\n",
      "Sending command: b'MD\\r'\n",
      "Sent 3 bytes\n",
      "Current tracking mode: 3 - Sun-sensor with learning tracking mode\n",
      "Setting active tracking mode to 0 - Manual tracking mode\n",
      "Sending command: b'MD,0\\r'\n",
      "Sent 5 bytes\n",
      "OK\n",
      "Slewing to\n",
      "\tAlt = 0.000\n",
      "\t Az = 0.000\n",
      "Sending command: b'MP,0.000,0.000\\r'\n",
      "Sent 15 bytes\n"
     ]
    },
    {
     "name": "stderr",
     "output_type": "stream",
     "text": [
      "INFO:transitions.core:Executed callback 'stow_tracker'\n",
      "DEBUG:transitions.core:Executed callback before transition.\n",
      "DEBUG:transitions.core:Exiting state Closing. Processing callbacks...\n",
      "INFO:transitions.core:Finished processing state Closing exit callbacks.\n",
      "DEBUG:transitions.core:Entering state Stowed. Processing callbacks...\n",
      "INFO:transitions.core:Finished processing state Stowed enter callbacks.\n"
     ]
    },
    {
     "name": "stdout",
     "output_type": "stream",
     "text": [
      "OK\n",
      "Fetching current tracker position...\n",
      "Sending command: b'MR\\r'\n",
      "Sent 3 bytes\n",
      "Now pointing at\n",
      "\tAlt = 0.000\n",
      "\t Az = 0.000\n",
      "Fetching current tracker position...\n",
      "Sending command: b'MR\\r'\n",
      "Sent 3 bytes\n",
      "Fetching current tracker position...\n",
      "Sending command: b'MR\\r'\n",
      "Sent 3 bytes\n",
      "Fetching active tracking mode...\n",
      "Sending command: b'MD\\r'\n",
      "Sent 3 bytes\n"
     ]
    },
    {
     "name": "stderr",
     "output_type": "stream",
     "text": [
      "INFO:transitions.core:Executed callback 'did_stow'\n",
      "DEBUG:transitions.core:Executed callback after transition.\n",
      "DEBUG:transitions.core:Executed machine finalize callbacks\n",
      "INFO:transitions.core:Executed callback 'did_close'\n",
      "DEBUG:transitions.core:Executed callback after transition.\n",
      "DEBUG:transitions.core:Executed machine finalize callbacks\n"
     ]
    },
    {
     "name": "stdout",
     "output_type": "stream",
     "text": [
      "Current tracking mode: 0 - Manual tracking mode\n"
     ]
    },
    {
     "data": {
      "text/plain": [
       "True"
      ]
     },
     "execution_count": 14,
     "metadata": {},
     "output_type": "execute_result"
    }
   ],
   "source": [
    "socal.close()"
   ]
  },
  {
   "cell_type": "code",
   "execution_count": 15,
   "id": "beee8d12",
   "metadata": {
    "scrolled": true
   },
   "outputs": [
    {
     "data": {
      "text/plain": [
       "'Stowed'"
      ]
     },
     "execution_count": 15,
     "metadata": {},
     "output_type": "execute_result"
    }
   ],
   "source": [
    "socal.state"
   ]
  },
  {
   "cell_type": "code",
   "execution_count": 16,
   "id": "bba40bd8",
   "metadata": {},
   "outputs": [],
   "source": [
    "# socal.dispatcher.tracker.slew(0,0)"
   ]
  },
  {
   "cell_type": "markdown",
   "id": "ebd90418",
   "metadata": {},
   "source": [
    "# Close the connections"
   ]
  },
  {
   "cell_type": "code",
   "execution_count": 17,
   "id": "d53eabfb",
   "metadata": {
    "scrolled": false
   },
   "outputs": [
    {
     "name": "stdout",
     "output_type": "stream",
     "text": [
      "Closed WebSocket connection at ws://192.168.23.244:4030/ws.\n"
     ]
    }
   ],
   "source": [
    "socal.dispatcher.dome.close_ws()"
   ]
  },
  {
   "cell_type": "code",
   "execution_count": 18,
   "id": "cb1adc35",
   "metadata": {},
   "outputs": [
    {
     "name": "stdout",
     "output_type": "stream",
     "text": [
      "Closed connection to 192.168.23.242 at Port 10001\n"
     ]
    }
   ],
   "source": [
    "socal.dispatcher.tracker.close_connection()"
   ]
  },
  {
   "cell_type": "markdown",
   "id": "658f3804",
   "metadata": {},
   "source": [
    "# dome.status() while closed, opening, open, closing, closed"
   ]
  },
  {
   "cell_type": "markdown",
   "id": "749395e3",
   "metadata": {},
   "source": [
    "`Closed,0,0,1,1,Stopped,0.0,Remote,Sensors:, Power: on, Rain: off, Light: off`\n",
    "\n",
    "`Unknown,0,0,0,0,Opening,0.9,Remote,Sensors:, Power: on, Rain: off, Light: off`\n",
    "\n",
    "`Open,1,1,0,0,Stopped,0.0,Remote,Sensors:, Power: on, Rain: off, Light: off`\n",
    "\n",
    "`Unknown,0,0,0,0,Closing,0.9,Remote,Sensors:, Power: on, Rain: off, Light: off`\n",
    "\n",
    "`Closed,0,0,1,1,Stopped,0.0,Remote,Sensors:, Power: on, Rain: off, Light: off`"
   ]
  },
  {
   "cell_type": "code",
   "execution_count": null,
   "id": "19d23d69",
   "metadata": {},
   "outputs": [],
   "source": []
  }
 ],
 "metadata": {
  "kernelspec": {
   "display_name": "Python 3",
   "language": "python",
   "name": "python3"
  },
  "language_info": {
   "codemirror_mode": {
    "name": "ipython",
    "version": 3
   },
   "file_extension": ".py",
   "mimetype": "text/x-python",
   "name": "python",
   "nbconvert_exporter": "python",
   "pygments_lexer": "ipython3",
   "version": "3.9.4"
  }
 },
 "nbformat": 4,
 "nbformat_minor": 5
}
